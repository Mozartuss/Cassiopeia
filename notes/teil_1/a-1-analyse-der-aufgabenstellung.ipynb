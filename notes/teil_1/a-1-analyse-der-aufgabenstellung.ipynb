{
 "cells": [
  {
   "cell_type": "markdown",
   "metadata": {},
   "source": [
    "# Aufgabenteil 1 (Abgabe 25.10.2018)"
   ]
  },
  {
   "cell_type": "markdown",
   "metadata": {},
   "source": [
    "## \"Die Aufgabenstellung ist verständlich, eindeutig und vollständig. Als professionelles Entwickler-Team sollten Sie mich daher nicht mit unnötige Rückfragen belästigen. Außerdem bezahle ich Sie ja fur die Umsetzung meiner Wünsche.“"
   ]
  },
  {
   "cell_type": "markdown",
   "metadata": {},
   "source": [
    "Als professionelle Entwickler besitzen wir die Kompetenzen, Anforderungen, die an uns herangetragen werden, technisch abzubilden; um Fragestellungen aus Ihrem Fachgebiet besser zu verstehen, benötigen wir allerdings Ihre Expertise. Im Laufe des Projektes treten unausweichlich aufgrund der Komplexität der Problemstellung Detail-Fragen auf, wenn vorab Unklarheiten nicht beseitigt werden. Um einen möglichst reibungslosen Projektablauf zu gewährleisten, sollte zu Beginn eine angemessene Zeit in die Klärung von Fragen investiert werden, da Verzögerungen oder sogar ein scheitern des Projektes ansonsten nicht auszuschließen sind."
   ]
  },
  {
   "cell_type": "markdown",
   "metadata": {},
   "source": [
    "## Leiten Sie aus der Aufgabenstellung (Abschnitt 4) konkrete Anforderungen für die zu entwickelnde Software ab und formulieren Sie das Ergebnis als Dokument, in dem jede einzelne Anforderung einen einprägsamen titel und eine kurze Beschreibung (wenige Sätze) erhält."
   ]
  },
  {
   "cell_type": "markdown",
   "metadata": {},
   "source": [
    "### Hardware-Anforderungen\n",
    "#### Parallelisierung\n",
    "Zur Parallelisierung werden mehrere Rechner benötigt. Zu jeder Zeit soll die maximale Anzahl an verfügbaren Prozessorkernen zur Berechnung verwandt werden.\n",
    "\n",
    "### Software-Anforderungen\n",
    "#### Architektur\n",
    "Es erfolgt eine Trennung in Backend und Frontend (Client-Server-Architektur), wobei clientseitig lediglich die graphische Darstellung sowie die GUI zur Bedienung und Darstellung implementiert wird. Wichtig ist, dass die konkrete Berechnung der Simulation nicht von der Anzahl der benutzten Prozessoren abhängig sein darf. Die Berechnung erfolgt serverseitig.\n",
    "\n",
    "#### GUI\n",
    "Im Client muss eine GUI zur Bedienung der Software bereitgestellt werden. Diese verfügt über Eingabemöglichkeiten, um die Parameter der Simulation festzulegen. Außerdem wird die Simulation über die GUI gestartet sowie beendet. Zur Laufzeit, zeigt diese ein 3D-Modell der Simulation.\n",
    "\n",
    "#### Parameter\n",
    "Folgende Parameter werden durch den Benutzer festgelegt: \n",
    " * Anzahl der Körper\n",
    " * Bereich der Massen und Radien\n",
    " * Ausdehnung des Raumbereichs, in dem die Körper sich befinden\n",
    " * Masse des zentralen Körpers/Schwarzen Lochs\n",
    " * Schrittweite der Simulation\n",
    "\n",
    "Zufällig hingegen erfolgt die Verteilung der Körper im festgelegten Raumbereich.\n",
    "\n",
    "#### Simulation\n",
    "Die Simulation besteht nach der Festlegung der Parameter aus mehreren Schritten:\n",
    " 1. Startimpuls durch Eingabe des Benutzers in der GUI (hierbei ist eine Überprüfung auf Validität und Vollständigkeit   der Parameter sinnvoll)\n",
    " 2. Erstellung der Körper innerhalb des Radien-/Massenbereichs und Erstellung des Schwarzen Lochs\n",
    " 3. Zufällige Verteilung der Körper im Raumbereich und Platzierung des Schwarzen Lochs im Zentrum des Raumbereichs\n",
    " 4. Berechnung der Initialgeschwindigkeiten (muss zu möglichst stabiler Systemkonfiguration führen)\n",
    " 5. Schrittweise Simulation für die gegebene Schrittweite  \n",
    " 6. Ende der Simulation durch Eingabe des Benutzers in der GUI\n",
    "\n",
    "#### Test\n",
    "Zur Sicherstellung der Funktionsweise der Software sowie der Richtigkeit der Ergebnisse müssen Tests möglichst kleinschrittig und automatisiert implementiert werden. "
   ]
  },
  {
   "cell_type": "markdown",
   "metadata": {},
   "source": [
    "## Bezüglich welcher Details weicht die Aufgabenstellung von typischen Kundenanfragen in der Realität ab?"
   ]
  },
  {
   "cell_type": "markdown",
   "metadata": {},
   "source": [
    "Eine Kundenanfrage wird in der Regel nicht beinhalten, dass Tests erstellt werden sollen. Dem Kunden wird allerdings ein Dokumentation/Handbuch zum Umgang mit der Software und eine fehlerfreie Ausführung mit richtigen Ergebnissen wichtig sein. Auch die Vorgabe, dass alle verfügbaren Prozessorkerne zu verwenden sind, ist nicht der Regelfall, da das Design der Softwarearchitektur in der Regel auf Seite der Softwareentwickler stattfindet. In dieser Aufgabenstellung wird darüberhinaus auf einzuhaltendes Budget verzichtet."
   ]
  },
  {
   "cell_type": "markdown",
   "metadata": {},
   "source": [
    "## Erstellen Sie gemeinsam eine Liste offener Fragen, die mit dem Kunden (Dozenten im Rahmen der Vorlesung geklärt werden müssen."
   ]
  },
  {
   "cell_type": "markdown",
   "metadata": {},
   "source": [
    "* Frage: Muss es nur auf einen Rechner dargestellt werden können, oder\n",
    "  auch auf mehreren?\n",
    "* Frage: Soll bei Beendigung des Systems Daten gespeichert werden?\n",
    "* Frage: Was muss dokumentiert werden (Usage, Example, Code)?\n",
    "* Frage: Muss dokumentiert werden wer welche Aufgaben übernommen hat?"
   ]
  },
  {
   "cell_type": "markdown",
   "metadata": {},
   "source": [
    "## Welches Risiko ergibt sich, wenn die vorhergehende Teilaufgabe nicht sorgfältig bearbeitet wird?"
   ]
  },
  {
   "cell_type": "markdown",
   "metadata": {},
   "source": [
    "Wird ein Projekt begonnen, ohne alle Fragen abschließend geklärt zu haben, birgt das die Gefahr, dass an den Vorstellungen des Auftraggebers vorbeientwickelt wird. Erfahrungsgemäß wird dann nämlich versucht, Unklarheiten durch Annahmen aufzufangen, und das Projekt bewegt sich in eine falsche Richtung. Im schlimmsten Fall ist es am Ende für die eigentlich vorgesehene Aufgabe nur eingeschränkt oder gar nicht nutzbar; man hätte also Zeit und Ressourcen unnötig aufgewendet und müsste mit einem weiteren Mehraufwand Korrekturen vornehmen, die im schlimmsten Fall bereits in der grundlegenden Struktur des entstandenen Programmes notwendig wären."
   ]
  }
 ],
 "metadata": {
  "kernelspec": {
   "display_name": "Python 3",
   "language": "python",
   "name": "python3"
  },
  "language_info": {
   "codemirror_mode": {
    "name": "ipython",
    "version": 3
   },
   "file_extension": ".py",
   "mimetype": "text/x-python",
   "name": "python",
   "nbconvert_exporter": "python",
   "pygments_lexer": "ipython3",
   "version": "3.6.5"
  },
  "latex_envs": {
   "LaTeX_envs_menu_present": true,
   "autoclose": false,
   "autocomplete": true,
   "bibliofile": "biblio.bib",
   "cite_by": "apalike",
   "current_citInitial": 1,
   "eqLabelWithNumbers": true,
   "eqNumInitial": 1,
   "hotkeys": {
    "equation": "Ctrl-E",
    "itemize": "Ctrl-I"
   },
   "labels_anchors": false,
   "latex_user_defs": false,
   "report_style_numbering": false,
   "user_envs_cfg": false
  },
  "toc": {
   "base_numbering": 1,
   "nav_menu": {},
   "number_sections": true,
   "sideBar": true,
   "skip_h1_title": false,
   "title_cell": "Table of Contents",
   "title_sidebar": "Contents",
   "toc_cell": false,
   "toc_position": {},
   "toc_section_display": true,
   "toc_window_display": false
  },
  "varInspector": {
   "cols": {
    "lenName": 16,
    "lenType": 16,
    "lenVar": 40
   },
   "kernels_config": {
    "python": {
     "delete_cmd_postfix": "",
     "delete_cmd_prefix": "del ",
     "library": "var_list.py",
     "varRefreshCmd": "print(var_dic_list())"
    },
    "r": {
     "delete_cmd_postfix": ") ",
     "delete_cmd_prefix": "rm(",
     "library": "var_list.r",
     "varRefreshCmd": "cat(var_dic_list()) "
    }
   },
   "types_to_exclude": [
    "module",
    "function",
    "builtin_function_or_method",
    "instance",
    "_Feature"
   ],
   "window_display": false
  }
 },
 "nbformat": 4,
 "nbformat_minor": 2
}
