{
 "cells": [
  {
   "cell_type": "markdown",
   "metadata": {},
   "source": [
    "## Aufgaben: Einführung"
   ]
  },
  {
   "cell_type": "markdown",
   "metadata": {},
   "source": [
    "1. Mit welchen verteilten Systemen hatten Sie schon zu tun? (Liste)\n",
    "1. Verschaffen Sie sich einen Überblick über das Buch [Brendan Burns: \"Designing Distributed Systems\", O'Reilly Media, Inc., (2018)](https://proquest.tech.safaribooksonline.de/book/electrical-engineering/computer-engineering/9781491983638).\n",
    "1. Warum finden sich an der Spitze der [Top 500 Supercomputer](http://www.top500.org) hauptsächlich Cluster?\n",
    "1. Gilt das Amdahlsche Gesetz auch für Berechnungen im Cluster? (Begründung)\n",
    "1. Überlegen Sie sich (Papier/Bleistift), wie Sie Ihre Gravitations-Simulation in einem Cluster rechnen können. Betrachten Sie dabei insbesondere folgende Aspekte:\n",
    "    1. Welche Gründe sprechen dafür, die Berechnung in einem Cluster durchzuführen?\n",
    "    1. Welche Daten müssen zwischen den beteiligten Rechnern mindestens ausgetauscht werden?\n",
    "    1. Stellen Sie den Fluß der Daten in einem Diagramm dar (Von wo nach wo fließen welche Daten in welcher zeitlichen Abfolge?).\n",
    "    1. Welche zusätzlichen Herausforderungen stellen sich für eine verteilte Berechnung im Vergleich zur Parallelisierung mit *multiprocessing.map*?"
   ]
  },
  {
   "cell_type": "markdown",
   "metadata": {},
   "source": [
    "1) \n",
    "   * Messenger\n",
    "   * Online-Shop\n",
    "\n",
    "\n",
    "3) Cluster sind kostengünstiger aufzubauen als ein einzelner Computer vergleichbarer Leistung durch Vernetzung \"einfacher\" Computer und der Zunutzemachung von Lastenverteilung.\n",
    "\n",
    "4) Ja, denn bei der parallelen Berechnung von Programmschritten über ein Cluster hinweg, kann nachwievor nur parallelisiert werden, was sich parallelisieren lässt. Beinhaltet ein Programm Schritte, die nacheinander abgearbeitet werden müssen, kann die Ausführungsgeschwindigkeit nie kleiner werden, als die Zeit, die es zum seriellen Abarbeiten der nicht zu parallelisierenden Befehle benötigt.\n",
    "\n",
    "5) ..."
   ]
  },
  {
   "cell_type": "markdown",
   "metadata": {},
   "source": [
    "## Aufgaben: Middleware¶"
   ]
  },
  {
   "cell_type": "markdown",
   "metadata": {},
   "source": [
    "1. Vergegenwärtigen Sie sich nochmals die Struktur und Funktionsweise der im Rahmen der Vorlesung vorgestellten verteilten Gravitations-Simulation, die [Ice](http://www.zeroc.com) verwendet.\n",
    "1. Nennen und beschreiben Sie zwei wichtige Vorteile, die Entwickler durch den Einsatz einer Middleware haben? (ca. vier Sätze)\n",
    "1. Was leistet die Middleware *ice* von [zeroc](https://zeroc.com)? (ca. fünf Sätze)\n",
    "1. Wozu wird [*slice*](http://doc.zeroc.com/display/Ice/The+Slice+Language) benötigt? (ca. vier Sätze)\n",
    "1. Welche Gründe sprechen *gegen* den Einsatz von Middleware in kleineren Projekten? (ca. vier Sätze)\n"
   ]
  },
  {
   "cell_type": "markdown",
   "metadata": {},
   "source": [
    "2) Middleware hilft, voneinander unabhängige Anwendungen auch in heterogener Umgebung miteinander kommunizieren zu lassen, ohne dass diese übereinander Bescheid wissen. So kann außerdem nach außen hin die Komplexität einer Anwendung verborgen werden, da lediglich die Middleware angesprochen wird. Je nach Ausrichtung der Middleware ist es außerdem möglich, über Queues _messages_ abzulegen, die dann vom Empfänger abgeholt werden. So können Informationen persistiert werden, auch wenn Programmteile ausfallen. Ebenso ist sie hilfreich bei der Lastenverteilung vieler Anfragen von Clients auf verschiedene Server.\n",
    "\n",
    "3)  Ice ist darauf ausgelegt, dem Programmierer möglichst viel Arbeit über seine eigene Programmlogik hinaus abzunehmen. Kurzum soll es Komplexität bei der Erstellung eines Verteilten Systems in sich bündeln. Beispielsweise sind Aktionen wie das Aufbauen einer Netzwerkverbindung oder erneuter Verbindungsaufbau bei Fehlern in Ice bereits implementiert. Ice versucht dabei möglichst effizient und ressourcenschonend zu arbeiten. Es ist objektorientiert aufgebaut und einsetzbar in heterogener Umgebung. \n",
    "\n",
    "4) Slice ist eine deklarative Sprache zur Definition von Schnittstellen zwischen Client und Server innerhalb des Ice-Frameworks. Der Vorteil dieser Abstraktionsebene ist, dass die Schnittstellen von der Sprache, die zur Implementierung der Programmlogik verwendet wurde, unabhängig sind. So müssen Client und Server nicht in der selben Sprache geschrieben sein. Um diese Unabhängigkeit zu gewährleisten, können Informationen zwischen Client und Server nur dann ausgetauscht werden, wenn zu diesem Zweck eine Beschreibung in Slice existiert, sodass diese Objekte übertragen werden können und müssen.\n",
    "\n",
    "5) Es ist abzuwägen ob sich die zu unterhaltende, zusätzliche Komplexität der Middleware für ein kleines Projekt rentiert oder ob es nicht besser ist, die Anwendungen direkt miteinander kommunizieren zu lassen. Keine Ahnung, ist mir auch egal. "
   ]
  },
  {
   "cell_type": "markdown",
   "metadata": {},
   "source": [
    "## Aufgaben: Verteilung mit multiprocessing"
   ]
  },
  {
   "cell_type": "markdown",
   "metadata": {},
   "source": [
    "1. Diskutieren Sie mit anderen Studierenden die Funktionsweise des angegebenen Beispiels.\n",
    "1. Welche Gemeinsamkeiten und Unterschiede bestehen zwischen der in der letzten Vorlesung vorgestellten Parallelisierung mittels *Joinable Queues* und der oben angegebenen Verteilung mittels der Klasse *distributed Queue*?\n",
    "1. Verwenden Sie die angegebenen Python-Klassen und -Funktionen als Vorlage und implementieren Sie eine verteilte Version Ihrer Monte Carlo-Simulation zur Berechnung der Zahl $\\pi$. \n",
    "1. Bauen Sie mit den Rechnern im Labor M3.03 ein Cluster auf und messen Sie die Beschleunigungen, die Sie für die beiden Beispiele \"TSP\" und \"Monte Carlo-Simulation zur Berechnung der Zahl $\\pi$\" mit *multiprocessing* erreicht haben."
   ]
  },
  {
   "cell_type": "code",
   "execution_count": null,
   "metadata": {},
   "outputs": [],
   "source": []
  }
 ],
 "metadata": {
  "kernelspec": {
   "display_name": "Python 3",
   "language": "python",
   "name": "python3"
  },
  "language_info": {
   "codemirror_mode": {
    "name": "ipython",
    "version": 3
   },
   "file_extension": ".py",
   "mimetype": "text/x-python",
   "name": "python",
   "nbconvert_exporter": "python",
   "pygments_lexer": "ipython3",
   "version": "3.6.6"
  },
  "latex_envs": {
   "LaTeX_envs_menu_present": true,
   "autoclose": false,
   "autocomplete": true,
   "bibliofile": "biblio.bib",
   "cite_by": "apalike",
   "current_citInitial": 1,
   "eqLabelWithNumbers": true,
   "eqNumInitial": 1,
   "hotkeys": {
    "equation": "Ctrl-E",
    "itemize": "Ctrl-I"
   },
   "labels_anchors": false,
   "latex_user_defs": false,
   "report_style_numbering": false,
   "user_envs_cfg": false
  },
  "toc": {
   "base_numbering": 1,
   "nav_menu": {},
   "number_sections": true,
   "sideBar": true,
   "skip_h1_title": false,
   "title_cell": "Table of Contents",
   "title_sidebar": "Contents",
   "toc_cell": false,
   "toc_position": {},
   "toc_section_display": true,
   "toc_window_display": false
  },
  "varInspector": {
   "cols": {
    "lenName": 16,
    "lenType": 16,
    "lenVar": 40
   },
   "kernels_config": {
    "python": {
     "delete_cmd_postfix": "",
     "delete_cmd_prefix": "del ",
     "library": "var_list.py",
     "varRefreshCmd": "print(var_dic_list())"
    },
    "r": {
     "delete_cmd_postfix": ") ",
     "delete_cmd_prefix": "rm(",
     "library": "var_list.r",
     "varRefreshCmd": "cat(var_dic_list()) "
    }
   },
   "types_to_exclude": [
    "module",
    "function",
    "builtin_function_or_method",
    "instance",
    "_Feature"
   ],
   "window_display": false
  }
 },
 "nbformat": 4,
 "nbformat_minor": 2
}
