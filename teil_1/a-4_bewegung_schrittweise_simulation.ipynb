{
 "cells": [
  {
   "cell_type": "markdown",
   "metadata": {},
   "source": [
    "## A4\n",
    "\n",
    "### A4.a\n",
    "> Beschreiben Sie anhand Ihrer Skizze aus Aufgabe 3c anschaulich, wie eine schritt-\n",
    "weise Simulation der Planetenbewegung möglich ist.  \n",
    "\n",
    "In der schrittweisen Simulation wird die Berechnung der Simulation in zeitlich diskrete Schritte aufgeteilt. \n",
    "Die Berechnungen ergeben letztendlich die Positionen der Körper, die sich aus den verschiedenen physikalischen\n",
    "Parametern (wie z.B. Masse eines Planeten, Anfangsgeschwindigkeit etc) folgern lassen. \n",
    "Wenn man diese Berechnungen schnell genug wiederholt (kleiner Berechnungsintervall $\\Delta t$) ensteht eine Simulation, welche\n",
    "flüssig läuft.\n",
    "\n",
    "Beispiel bezogen auf 3c:  \n",
    "In jedem Schritt wird die Position des Planeten $p2$ neu berechnet, indem seine Geschwindigkeit mit dem\n",
    "Berechnungsintervall $\\Delta t$ multipliziert.\n",
    "\n",
    "### A4.b\n",
    "> Passen Sie die vorgegebene Formel (1) an das vorliegende Problem an.  \n",
    "\n",
    "Folgende Anpassungen an der Formel müssen durchgeführt werden:  \n",
    "* Die Berechnung der Geschwindigkeit $\\dot{\\vec{r}}$ erfolgt die in $(8)$ angegebene Gleichung  \n",
    "* Daraus folgt, dass für die Beschleunigung $\\ddot{\\vec{r}}$ die Ableitung der in $(8)$ angegebenen Gleichung\n",
    "  eingesetzt werden muss\n",
    "\n",
    "### A4.c\n",
    "> Wie kann man mit Hilfe dieser Formel den Funktionswert $\\vec{r}(t_2)$ aus $\\vec{r}(t)$ bestimmen, wenn $t2$ deutlich größer als $t$ ist?  \n",
    "\n",
    "Wenn $t_2$ deutlich größer als $t_1$ ist, dann sollte man den Zeitintervall in kleinere Schritte aufteilen, die man iterativ berechnen kann.  \n",
    "Dies ist sinnvoll um eine Simulation *flüssiger* darzustellen ($> FPS$), ändert aber nicht die Genauigkeit der errechneten Position.    \n",
    "Ein Beispiel:  \n",
    "$t_1 = 1; t_2 = 50$  \n",
    "Hier kann man den Zeitintervall z.B. in 10er Schritte aufteilen:  "
   ]
  },
  {
   "cell_type": "code",
   "execution_count": 3,
   "metadata": {},
   "outputs": [
    {
     "name": "stdout",
     "output_type": "stream",
     "text": [
      "10\n",
      "20\n",
      "30\n",
      "40\n",
      "50\n"
     ]
    }
   ],
   "source": [
    "t1 = 10\n",
    "t2 = 50\n",
    "for t in range(t1, t2 + 1, 10):\n",
    "    print(t)\n",
    "    # delta_pos = calc_delta_pos(t)"
   ]
  },
  {
   "cell_type": "code",
   "execution_count": null,
   "metadata": {},
   "outputs": [],
   "source": []
  }
 ],
 "metadata": {
  "kernelspec": {
   "display_name": "Python 3",
   "language": "python",
   "name": "python3"
  },
  "language_info": {
   "codemirror_mode": {
    "name": "ipython",
    "version": 3
   },
   "file_extension": ".py",
   "mimetype": "text/x-python",
   "name": "python",
   "nbconvert_exporter": "python",
   "pygments_lexer": "ipython3",
   "version": "3.6.6"
  },
  "latex_envs": {
   "LaTeX_envs_menu_present": true,
   "autoclose": false,
   "autocomplete": true,
   "bibliofile": "biblio.bib",
   "cite_by": "apalike",
   "current_citInitial": 1,
   "eqLabelWithNumbers": true,
   "eqNumInitial": 1,
   "hotkeys": {
    "equation": "Ctrl-E",
    "itemize": "Ctrl-I"
   },
   "labels_anchors": false,
   "latex_user_defs": false,
   "report_style_numbering": false,
   "user_envs_cfg": false
  },
  "toc": {
   "base_numbering": 1,
   "nav_menu": {},
   "number_sections": true,
   "sideBar": true,
   "skip_h1_title": false,
   "title_cell": "Table of Contents",
   "title_sidebar": "Contents",
   "toc_cell": false,
   "toc_position": {},
   "toc_section_display": true,
   "toc_window_display": false
  }
 },
 "nbformat": 4,
 "nbformat_minor": 2
}
